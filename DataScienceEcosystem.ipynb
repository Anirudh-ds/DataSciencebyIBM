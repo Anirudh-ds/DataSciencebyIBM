{
 "cells": [
  {
   "cell_type": "markdown",
   "id": "26c6cf78-ce01-439d-b02f-b37709347a3e",
   "metadata": {},
   "source": [
    "# Data Science Tools and Ecosystem"
   ]
  },
  {
   "cell_type": "markdown",
   "id": "7dfa2577-8249-4ceb-a370-913338288505",
   "metadata": {},
   "source": [
    "In this notebook, Data Science Tools and Ecosystem are summarized."
   ]
  },
  {
   "cell_type": "markdown",
   "id": "b9457aef-55e9-4f46-aab9-d3a85dbcf21a",
   "metadata": {},
   "source": [
    "__Objectives:__\n",
    "- List popular languages for Data Scientists\n",
    "- Common libraries used by Data Scientists\n",
    "- Evaluating Arithmetic Ecpressions"
   ]
  },
  {
   "cell_type": "markdown",
   "id": "186a53a3-f602-4a5e-8ab1-4306e0501439",
   "metadata": {},
   "source": [
    "Some of the popular languages that Data Scientists use are:\n",
    "1. R\n",
    "2. Python\n",
    "3. SQL\n"
   ]
  },
  {
   "cell_type": "markdown",
   "id": "12f3133e-42f9-42a6-bbce-656f14c38272",
   "metadata": {},
   "source": [
    "Some of the commonly used libraries used by Data Scientists include:\n",
    "1. numpy\n",
    "2. pandas\n",
    "3. matplotlib\n",
    "4. scikit-learn"
   ]
  },
  {
   "cell_type": "markdown",
   "id": "4bcedbc1-67c8-4873-8f4b-d87483071794",
   "metadata": {},
   "source": [
    "| Data Science Tools | \n",
    "|--------------------|\n",
    "| RStudio|\n",
    "|IBM Watson Studio|\n",
    "|PyTorch|"
   ]
  },
  {
   "cell_type": "markdown",
   "id": "6448c6a8-1a3c-4dd2-abb6-08f4f80de3a0",
   "metadata": {},
   "source": [
    "### Below are a few examples of evaluating arithmetic expressions in Python.\n"
   ]
  },
  {
   "cell_type": "code",
   "execution_count": 3,
   "id": "f0a2f339-76a7-4806-921d-9d715c795e81",
   "metadata": {},
   "outputs": [
    {
     "data": {
      "text/plain": [
       "17"
      ]
     },
     "execution_count": 3,
     "metadata": {},
     "output_type": "execute_result"
    }
   ],
   "source": [
    "# This a simple arithmetic expression to mutiply then add intege\n",
    "(3*4)+5"
   ]
  },
  {
   "cell_type": "code",
   "execution_count": 6,
   "id": "71161253-a9dc-4d58-801c-0aaac8c6683b",
   "metadata": {},
   "outputs": [
    {
     "name": "stdout",
     "output_type": "stream",
     "text": [
      "3\n"
     ]
    }
   ],
   "source": [
    "# This will convert 200 minutes to hours by diving by 60\n",
    "hours = 200//60\n",
    "print(hours)"
   ]
  },
  {
   "cell_type": "markdown",
   "id": "368de364-77fd-45cf-930f-353e2b37c709",
   "metadata": {},
   "source": [
    "## Author\n",
    "Anirudh Aswal"
   ]
  },
  {
   "cell_type": "code",
   "execution_count": null,
   "id": "f30be6fe-0e23-4885-bc42-e4167602613a",
   "metadata": {},
   "outputs": [],
   "source": []
  }
 ],
 "metadata": {
  "kernelspec": {
   "display_name": "Python 3 (ipykernel)",
   "language": "python",
   "name": "python3"
  },
  "language_info": {
   "codemirror_mode": {
    "name": "ipython",
    "version": 3
   },
   "file_extension": ".py",
   "mimetype": "text/x-python",
   "name": "python",
   "nbconvert_exporter": "python",
   "pygments_lexer": "ipython3",
   "version": "3.8.18"
  }
 },
 "nbformat": 4,
 "nbformat_minor": 5
}
